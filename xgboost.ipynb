{
 "cells": [
  {
   "cell_type": "markdown",
   "id": "61e88c3b",
   "metadata": {},
   "source": [
    "#### Loading data sources"
   ]
  },
  {
   "cell_type": "code",
   "execution_count": 152,
   "id": "c115d967",
   "metadata": {},
   "outputs": [
    {
     "name": "stdout",
     "output_type": "stream",
     "text": [
      "Looking in indexes: https://pypi.python.org/simple, https://cognite.jfrog.io/cognite/api/pypi/snakepit/simple\r\n",
      "Requirement already satisfied: imblearn in /home/priyanka/etc/anaconda3/lib/python3.9/site-packages (0.0)\r\n",
      "Requirement already satisfied: imbalanced-learn in /home/priyanka/etc/anaconda3/lib/python3.9/site-packages (from imblearn) (0.10.1)\r\n",
      "Requirement already satisfied: threadpoolctl>=2.0.0 in /home/priyanka/etc/anaconda3/lib/python3.9/site-packages (from imbalanced-learn->imblearn) (2.2.0)\r\n",
      "Requirement already satisfied: scikit-learn>=1.0.2 in /home/priyanka/etc/anaconda3/lib/python3.9/site-packages (from imbalanced-learn->imblearn) (1.0.2)\r\n",
      "Requirement already satisfied: scipy>=1.3.2 in /home/priyanka/etc/anaconda3/lib/python3.9/site-packages (from imbalanced-learn->imblearn) (1.9.1)\r\n",
      "Requirement already satisfied: numpy>=1.17.3 in /home/priyanka/etc/anaconda3/lib/python3.9/site-packages (from imbalanced-learn->imblearn) (1.21.5)\r\n",
      "Requirement already satisfied: joblib>=1.1.1 in /home/priyanka/etc/anaconda3/lib/python3.9/site-packages (from imbalanced-learn->imblearn) (1.2.0)\r\n",
      "Looking in indexes: https://pypi.python.org/simple, https://cognite.jfrog.io/cognite/api/pypi/snakepit/simple\r\n",
      "Requirement already satisfied: imbalanced-learn in /home/priyanka/etc/anaconda3/lib/python3.9/site-packages (0.10.1)\r\n",
      "Requirement already satisfied: threadpoolctl>=2.0.0 in /home/priyanka/etc/anaconda3/lib/python3.9/site-packages (from imbalanced-learn) (2.2.0)\r\n",
      "Requirement already satisfied: scikit-learn>=1.0.2 in /home/priyanka/etc/anaconda3/lib/python3.9/site-packages (from imbalanced-learn) (1.0.2)\r\n",
      "Requirement already satisfied: joblib>=1.1.1 in /home/priyanka/etc/anaconda3/lib/python3.9/site-packages (from imbalanced-learn) (1.2.0)\r\n",
      "Requirement already satisfied: scipy>=1.3.2 in /home/priyanka/etc/anaconda3/lib/python3.9/site-packages (from imbalanced-learn) (1.9.1)\r\n",
      "Requirement already satisfied: numpy>=1.17.3 in /home/priyanka/etc/anaconda3/lib/python3.9/site-packages (from imbalanced-learn) (1.21.5)\r\n",
      "Looking in indexes: https://pypi.python.org/simple, https://cognite.jfrog.io/cognite/api/pypi/snakepit/simple\r\n",
      "Requirement already satisfied: patsy in /home/priyanka/etc/anaconda3/lib/python3.9/site-packages (0.5.2)\r\n",
      "Requirement already satisfied: six in /home/priyanka/etc/anaconda3/lib/python3.9/site-packages (from patsy) (1.16.0)\r\n",
      "Requirement already satisfied: numpy>=1.4 in /home/priyanka/etc/anaconda3/lib/python3.9/site-packages (from patsy) (1.21.5)\r\n"
     ]
    }
   ],
   "source": [
    "!pip install imblearn\n",
    "!pip install imbalanced-learn\n",
    "!pip install patsy"
   ]
  },
  {
   "cell_type": "code",
   "execution_count": 153,
   "id": "7eb156bc",
   "metadata": {
    "scrolled": false
   },
   "outputs": [],
   "source": [
    "# This Jupyter Notebook does feature engineering joining all features in all tables.\n",
    "\n",
    "import matplotlib.pyplot as plt\n",
    "import pandas as pd\n",
    "import seaborn\n",
    "from sklearn.linear_model import LogisticRegression\n",
    "from sklearn.model_selection import train_test_split\n",
    "from sklearn.metrics import accuracy_score, precision_score, recall_score, f1_score, r2_score\n",
    "from datetime import datetime\n",
    "from imblearn.over_sampling import SMOTE\n",
    "import seaborn as sns\n",
    "import numpy as np\n",
    "from sklearn.metrics import confusion_matrix, accuracy_score,classification_report,roc_curve,roc_auc_score\n",
    "from sklearn.preprocessing import LabelEncoder\n",
    "from sklearn.preprocessing import OneHotEncoder\n",
    "le = LabelEncoder()\n",
    "ohe = OneHotEncoder(sparse=False)\n"
   ]
  },
  {
   "cell_type": "markdown",
   "source": [
    "#### Parameters"
   ],
   "metadata": {
    "collapsed": false
   }
  },
  {
   "cell_type": "markdown",
   "source": [
    "#### Load the dataset"
   ],
   "metadata": {
    "collapsed": false
   }
  },
  {
   "cell_type": "code",
   "execution_count": 154,
   "outputs": [],
   "source": [
    "# Read employees dataset\n",
    "df_customer_raw = pd.read_csv('data/WA_Fn-UseC_-Telco-Customer-Churn.csv')"
   ],
   "metadata": {
    "collapsed": false
   }
  },
  {
   "cell_type": "code",
   "execution_count": 155,
   "outputs": [
    {
     "name": "stdout",
     "output_type": "stream",
     "text": [
      "<class 'pandas.core.frame.DataFrame'>\n",
      "RangeIndex: 7043 entries, 0 to 7042\n",
      "Data columns (total 21 columns):\n",
      " #   Column            Non-Null Count  Dtype  \n",
      "---  ------            --------------  -----  \n",
      " 0   customerID        7043 non-null   object \n",
      " 1   gender            7043 non-null   object \n",
      " 2   SeniorCitizen     7043 non-null   int64  \n",
      " 3   Partner           7043 non-null   object \n",
      " 4   Dependents        7043 non-null   object \n",
      " 5   tenure            7043 non-null   int64  \n",
      " 6   PhoneService      7043 non-null   object \n",
      " 7   MultipleLines     7043 non-null   object \n",
      " 8   InternetService   7043 non-null   object \n",
      " 9   OnlineSecurity    7043 non-null   object \n",
      " 10  OnlineBackup      7043 non-null   object \n",
      " 11  DeviceProtection  7043 non-null   object \n",
      " 12  TechSupport       7043 non-null   object \n",
      " 13  StreamingTV       7043 non-null   object \n",
      " 14  StreamingMovies   7043 non-null   object \n",
      " 15  Contract          7043 non-null   object \n",
      " 16  PaperlessBilling  7043 non-null   object \n",
      " 17  PaymentMethod     7043 non-null   object \n",
      " 18  MonthlyCharges    7043 non-null   float64\n",
      " 19  TotalCharges      7043 non-null   object \n",
      " 20  Churn             7043 non-null   object \n",
      "dtypes: float64(1), int64(2), object(18)\n",
      "memory usage: 1.1+ MB\n"
     ]
    }
   ],
   "source": [
    "df_customer_raw.info()"
   ],
   "metadata": {
    "collapsed": false
   }
  },
  {
   "cell_type": "code",
   "execution_count": 156,
   "outputs": [],
   "source": [
    "df_customer = df_customer_raw"
   ],
   "metadata": {
    "collapsed": false
   }
  },
  {
   "cell_type": "code",
   "execution_count": 157,
   "outputs": [
    {
     "data": {
      "text/plain": "   customerID  gender  SeniorCitizen Partner Dependents  tenure PhoneService  \\\n0  7590-VHVEG  Female              0     Yes         No       1           No   \n1  5575-GNVDE    Male              0      No         No      34          Yes   \n2  3668-QPYBK    Male              0      No         No       2          Yes   \n3  7795-CFOCW    Male              0      No         No      45           No   \n4  9237-HQITU  Female              0      No         No       2          Yes   \n\n      MultipleLines InternetService OnlineSecurity  ... DeviceProtection  \\\n0  No phone service             DSL             No  ...               No   \n1                No             DSL            Yes  ...              Yes   \n2                No             DSL            Yes  ...               No   \n3  No phone service             DSL            Yes  ...              Yes   \n4                No     Fiber optic             No  ...               No   \n\n  TechSupport StreamingTV StreamingMovies        Contract PaperlessBilling  \\\n0          No          No              No  Month-to-month              Yes   \n1          No          No              No        One year               No   \n2          No          No              No  Month-to-month              Yes   \n3         Yes          No              No        One year               No   \n4          No          No              No  Month-to-month              Yes   \n\n               PaymentMethod MonthlyCharges  TotalCharges Churn  \n0           Electronic check          29.85         29.85    No  \n1               Mailed check          56.95        1889.5    No  \n2               Mailed check          53.85        108.15   Yes  \n3  Bank transfer (automatic)          42.30       1840.75    No  \n4           Electronic check          70.70        151.65   Yes  \n\n[5 rows x 21 columns]",
      "text/html": "<div>\n<style scoped>\n    .dataframe tbody tr th:only-of-type {\n        vertical-align: middle;\n    }\n\n    .dataframe tbody tr th {\n        vertical-align: top;\n    }\n\n    .dataframe thead th {\n        text-align: right;\n    }\n</style>\n<table border=\"1\" class=\"dataframe\">\n  <thead>\n    <tr style=\"text-align: right;\">\n      <th></th>\n      <th>customerID</th>\n      <th>gender</th>\n      <th>SeniorCitizen</th>\n      <th>Partner</th>\n      <th>Dependents</th>\n      <th>tenure</th>\n      <th>PhoneService</th>\n      <th>MultipleLines</th>\n      <th>InternetService</th>\n      <th>OnlineSecurity</th>\n      <th>...</th>\n      <th>DeviceProtection</th>\n      <th>TechSupport</th>\n      <th>StreamingTV</th>\n      <th>StreamingMovies</th>\n      <th>Contract</th>\n      <th>PaperlessBilling</th>\n      <th>PaymentMethod</th>\n      <th>MonthlyCharges</th>\n      <th>TotalCharges</th>\n      <th>Churn</th>\n    </tr>\n  </thead>\n  <tbody>\n    <tr>\n      <th>0</th>\n      <td>7590-VHVEG</td>\n      <td>Female</td>\n      <td>0</td>\n      <td>Yes</td>\n      <td>No</td>\n      <td>1</td>\n      <td>No</td>\n      <td>No phone service</td>\n      <td>DSL</td>\n      <td>No</td>\n      <td>...</td>\n      <td>No</td>\n      <td>No</td>\n      <td>No</td>\n      <td>No</td>\n      <td>Month-to-month</td>\n      <td>Yes</td>\n      <td>Electronic check</td>\n      <td>29.85</td>\n      <td>29.85</td>\n      <td>No</td>\n    </tr>\n    <tr>\n      <th>1</th>\n      <td>5575-GNVDE</td>\n      <td>Male</td>\n      <td>0</td>\n      <td>No</td>\n      <td>No</td>\n      <td>34</td>\n      <td>Yes</td>\n      <td>No</td>\n      <td>DSL</td>\n      <td>Yes</td>\n      <td>...</td>\n      <td>Yes</td>\n      <td>No</td>\n      <td>No</td>\n      <td>No</td>\n      <td>One year</td>\n      <td>No</td>\n      <td>Mailed check</td>\n      <td>56.95</td>\n      <td>1889.5</td>\n      <td>No</td>\n    </tr>\n    <tr>\n      <th>2</th>\n      <td>3668-QPYBK</td>\n      <td>Male</td>\n      <td>0</td>\n      <td>No</td>\n      <td>No</td>\n      <td>2</td>\n      <td>Yes</td>\n      <td>No</td>\n      <td>DSL</td>\n      <td>Yes</td>\n      <td>...</td>\n      <td>No</td>\n      <td>No</td>\n      <td>No</td>\n      <td>No</td>\n      <td>Month-to-month</td>\n      <td>Yes</td>\n      <td>Mailed check</td>\n      <td>53.85</td>\n      <td>108.15</td>\n      <td>Yes</td>\n    </tr>\n    <tr>\n      <th>3</th>\n      <td>7795-CFOCW</td>\n      <td>Male</td>\n      <td>0</td>\n      <td>No</td>\n      <td>No</td>\n      <td>45</td>\n      <td>No</td>\n      <td>No phone service</td>\n      <td>DSL</td>\n      <td>Yes</td>\n      <td>...</td>\n      <td>Yes</td>\n      <td>Yes</td>\n      <td>No</td>\n      <td>No</td>\n      <td>One year</td>\n      <td>No</td>\n      <td>Bank transfer (automatic)</td>\n      <td>42.30</td>\n      <td>1840.75</td>\n      <td>No</td>\n    </tr>\n    <tr>\n      <th>4</th>\n      <td>9237-HQITU</td>\n      <td>Female</td>\n      <td>0</td>\n      <td>No</td>\n      <td>No</td>\n      <td>2</td>\n      <td>Yes</td>\n      <td>No</td>\n      <td>Fiber optic</td>\n      <td>No</td>\n      <td>...</td>\n      <td>No</td>\n      <td>No</td>\n      <td>No</td>\n      <td>No</td>\n      <td>Month-to-month</td>\n      <td>Yes</td>\n      <td>Electronic check</td>\n      <td>70.70</td>\n      <td>151.65</td>\n      <td>Yes</td>\n    </tr>\n  </tbody>\n</table>\n<p>5 rows × 21 columns</p>\n</div>"
     },
     "execution_count": 157,
     "metadata": {},
     "output_type": "execute_result"
    }
   ],
   "source": [
    "df_customer.head()"
   ],
   "metadata": {
    "collapsed": false
   }
  },
  {
   "cell_type": "code",
   "execution_count": 158,
   "outputs": [
    {
     "data": {
      "text/plain": "array(['Yes', 'No'], dtype=object)"
     },
     "execution_count": 158,
     "metadata": {},
     "output_type": "execute_result"
    }
   ],
   "source": [
    "df_customer['Partner'].unique()"
   ],
   "metadata": {
    "collapsed": false
   }
  },
  {
   "cell_type": "code",
   "execution_count": 159,
   "outputs": [
    {
     "data": {
      "text/plain": "array([1, 0])"
     },
     "execution_count": 159,
     "metadata": {},
     "output_type": "execute_result"
    }
   ],
   "source": [
    "df_customer['Partner'] = le.fit_transform(df_customer['Partner'])\n",
    "df_customer['Partner'].unique()"
   ],
   "metadata": {
    "collapsed": false
   }
  },
  {
   "cell_type": "code",
   "execution_count": 160,
   "outputs": [
    {
     "data": {
      "text/plain": "array(['No', 'Yes'], dtype=object)"
     },
     "execution_count": 160,
     "metadata": {},
     "output_type": "execute_result"
    }
   ],
   "source": [
    "df_customer['PhoneService'].unique()"
   ],
   "metadata": {
    "collapsed": false
   }
  },
  {
   "cell_type": "code",
   "execution_count": 161,
   "outputs": [
    {
     "data": {
      "text/plain": "array([0, 1])"
     },
     "execution_count": 161,
     "metadata": {},
     "output_type": "execute_result"
    }
   ],
   "source": [
    "df_customer['PhoneService'] = le.fit_transform(df_customer['PhoneService'])\n",
    "df_customer['PhoneService'].unique()"
   ],
   "metadata": {
    "collapsed": false
   }
  },
  {
   "cell_type": "code",
   "execution_count": 162,
   "outputs": [
    {
     "data": {
      "text/plain": "array(['DSL', 'Fiber optic', 'No'], dtype=object)"
     },
     "execution_count": 162,
     "metadata": {},
     "output_type": "execute_result"
    }
   ],
   "source": [
    "df_customer['InternetService'].unique()"
   ],
   "metadata": {
    "collapsed": false
   }
  },
  {
   "cell_type": "code",
   "execution_count": 163,
   "outputs": [
    {
     "name": "stdout",
     "output_type": "stream",
     "text": [
      "(7043, 21)\n",
      "(7043, 3)\n",
      "RangeIndex(start=0, stop=7043, step=1)\n",
      "RangeIndex(start=0, stop=7043, step=1)\n",
      "<class 'pandas.core.frame.DataFrame'>\n",
      "RangeIndex: 7043 entries, 0 to 7042\n",
      "Data columns (total 23 columns):\n",
      " #   Column                       Non-Null Count  Dtype  \n",
      "---  ------                       --------------  -----  \n",
      " 0   customerID                   7043 non-null   object \n",
      " 1   gender                       7043 non-null   object \n",
      " 2   SeniorCitizen                7043 non-null   int64  \n",
      " 3   Partner                      7043 non-null   int64  \n",
      " 4   Dependents                   7043 non-null   object \n",
      " 5   tenure                       7043 non-null   int64  \n",
      " 6   PhoneService                 7043 non-null   int64  \n",
      " 7   MultipleLines                7043 non-null   object \n",
      " 8   OnlineSecurity               7043 non-null   object \n",
      " 9   OnlineBackup                 7043 non-null   object \n",
      " 10  DeviceProtection             7043 non-null   object \n",
      " 11  TechSupport                  7043 non-null   object \n",
      " 12  StreamingTV                  7043 non-null   object \n",
      " 13  StreamingMovies              7043 non-null   object \n",
      " 14  Contract                     7043 non-null   object \n",
      " 15  PaperlessBilling             7043 non-null   object \n",
      " 16  PaymentMethod                7043 non-null   object \n",
      " 17  MonthlyCharges               7043 non-null   float64\n",
      " 18  TotalCharges                 7043 non-null   object \n",
      " 19  Churn                        7043 non-null   object \n",
      " 20  InternetService_DSL          7043 non-null   float64\n",
      " 21  InternetService_Fiber optic  7043 non-null   float64\n",
      " 22  InternetService_No           7043 non-null   float64\n",
      "dtypes: float64(4), int64(4), object(15)\n",
      "memory usage: 1.2+ MB\n"
     ]
    }
   ],
   "source": [
    "# Fit and transform the encoder on the 'InternetService' column\n",
    "encoded_data = ohe.fit_transform(df_customer[['InternetService']])\n",
    "\n",
    "# Create a DataFrame with the one-hot encoded data\n",
    "encoded_df = pd.DataFrame(encoded_data, columns=ohe.get_feature_names_out(['InternetService']))\n",
    "\n",
    "# Check the shape of the original DataFrame and the encoded_df\n",
    "print(df_customer.shape)  # Print the shape of df_customer\n",
    "print(encoded_df.shape)  # Print the shape of encoded_df\n",
    "\n",
    "# Ensure that the indices match\n",
    "print(df_customer.index)  # Print the indices of df_customer\n",
    "print(encoded_df.index)  # Print the indices of encoded_df\n",
    "\n",
    "# Concatenate the DataFrames\n",
    "df_customer = pd.concat([df_customer, encoded_df], axis=1)\n",
    "\n",
    "# Drop the original 'InternetService' column if desired\n",
    "df_customer.drop(columns=['InternetService'], inplace=True)\n",
    "df_customer.info()"
   ],
   "metadata": {
    "collapsed": false
   }
  },
  {
   "cell_type": "code",
   "execution_count": 164,
   "outputs": [
    {
     "data": {
      "text/plain": "array(['No', 'Yes', 'No internet service'], dtype=object)"
     },
     "execution_count": 164,
     "metadata": {},
     "output_type": "execute_result"
    }
   ],
   "source": [
    "df_customer['OnlineSecurity'].unique()"
   ],
   "metadata": {
    "collapsed": false
   }
  },
  {
   "cell_type": "code",
   "execution_count": 165,
   "outputs": [
    {
     "data": {
      "text/plain": "array(['Yes', 'No', 'No internet service'], dtype=object)"
     },
     "execution_count": 165,
     "metadata": {},
     "output_type": "execute_result"
    }
   ],
   "source": [
    "df_customer['OnlineBackup'].unique()"
   ],
   "metadata": {
    "collapsed": false
   }
  },
  {
   "cell_type": "code",
   "execution_count": 166,
   "outputs": [
    {
     "data": {
      "text/plain": "array(['No', 'Yes', 'No internet service'], dtype=object)"
     },
     "execution_count": 166,
     "metadata": {},
     "output_type": "execute_result"
    }
   ],
   "source": [
    "df_customer['DeviceProtection'].unique()"
   ],
   "metadata": {
    "collapsed": false
   }
  },
  {
   "cell_type": "code",
   "execution_count": 167,
   "outputs": [
    {
     "data": {
      "text/plain": "array(['No', 'Yes', 'No internet service'], dtype=object)"
     },
     "execution_count": 167,
     "metadata": {},
     "output_type": "execute_result"
    }
   ],
   "source": [
    "df_customer['TechSupport'].unique()"
   ],
   "metadata": {
    "collapsed": false
   }
  },
  {
   "cell_type": "code",
   "execution_count": 168,
   "outputs": [
    {
     "data": {
      "text/plain": "array(['No', 'Yes', 'No internet service'], dtype=object)"
     },
     "execution_count": 168,
     "metadata": {},
     "output_type": "execute_result"
    }
   ],
   "source": [
    "df_customer['StreamingMovies'].unique()"
   ],
   "metadata": {
    "collapsed": false
   }
  },
  {
   "cell_type": "code",
   "execution_count": 169,
   "outputs": [
    {
     "data": {
      "text/plain": "array(['No', 'Yes', 'No internet service'], dtype=object)"
     },
     "execution_count": 169,
     "metadata": {},
     "output_type": "execute_result"
    }
   ],
   "source": [
    "df_customer['StreamingTV'].unique()"
   ],
   "metadata": {
    "collapsed": false
   }
  }
 ],
 "metadata": {
  "kernelspec": {
   "display_name": "Python 3 (ipykernel)",
   "language": "python",
   "name": "python3"
  },
  "language_info": {
   "codemirror_mode": {
    "name": "ipython",
    "version": 3
   },
   "file_extension": ".py",
   "mimetype": "text/x-python",
   "name": "python",
   "nbconvert_exporter": "python",
   "pygments_lexer": "ipython3",
   "version": "3.9.7"
  }
 },
 "nbformat": 4,
 "nbformat_minor": 5
}
